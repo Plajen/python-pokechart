{
 "cells": [
  {
   "cell_type": "code",
   "execution_count": 265,
   "id": "137d499c",
   "metadata": {},
   "outputs": [],
   "source": [
    "import requests as req\n",
    "import csv, json"
   ]
  },
  {
   "cell_type": "code",
   "execution_count": 266,
   "id": "edde7d17",
   "metadata": {},
   "outputs": [],
   "source": [
    "url_group = []\n",
    "resp_group = []\n",
    "raw_data_group = []\n",
    "final_data_group = [[\"Tipo\", \"Quantidade\"]]\n",
    "for url in range(18):\n",
    "    url_group.append(\"https://pokeapi.co/api/v2/type/\" + str(url+1))\n",
    "    resp_group.append(req.get(url_group[url]))\n",
    "    raw_data_group.append(resp_group[url].json())\n",
    "    final_data_group.append([raw_data_group[url][\"name\"], len(raw_data_group[url][\"pokemon\"])])"
   ]
  },
  {
   "cell_type": "code",
   "execution_count": 267,
   "id": "5017d394",
   "metadata": {},
   "outputs": [],
   "source": [
    "with open(\"pokechart.csv\", \"w\") as file:\n",
    "    writer = csv.writer(file)\n",
    "    writer.writerows(final_data_group)"
   ]
  },
  {
   "cell_type": "code",
   "execution_count": 268,
   "id": "dc7ba94e",
   "metadata": {},
   "outputs": [],
   "source": [
    "def get_pokechart_data(csv_path, json_path):\n",
    "    data = {}\n",
    "    with open(csv_path, \"r\") as csv_file:\n",
    "        reader = csv.DictReader(csv_file)\n",
    "        for rows in reader:\n",
    "            id = rows['Tipo']\n",
    "            data[id] = rows\n",
    "    with open(json_path, \"w\") as json_file:\n",
    "        json_file.write(json.dumps(data, indent=2))\n",
    "    with open(json_path, \"r\") as json_file:\n",
    "        data = json.load(json_file)\n",
    "    return data"
   ]
  },
  {
   "cell_type": "code",
   "execution_count": 269,
   "id": "cd1d2fa5",
   "metadata": {},
   "outputs": [],
   "source": [
    "def get_x_labels(data):\n",
    "    labels = []\n",
    "    for t in range(0, len(data)):\n",
    "        labels.append(list(data)[t])\n",
    "    return labels"
   ]
  },
  {
   "cell_type": "code",
   "execution_count": 294,
   "id": "6cc64242",
   "metadata": {},
   "outputs": [],
   "source": [
    "def get_data_amounts(data):\n",
    "    indexes = []\n",
    "    amounts = []\n",
    "    for t in range(0, len(data)):\n",
    "        indexes.append(list(data)[t])\n",
    "    for key in indexes:\n",
    "        amounts.append(data[key][\"Quantidade\"])\n",
    "    return amounts"
   ]
  },
  {
   "cell_type": "code",
   "execution_count": 295,
   "id": "11414ea5",
   "metadata": {},
   "outputs": [],
   "source": [
    "def set_data_backgrounds():\n",
    "    colors = [\n",
    "        \"rgba(170, 176, 159, 1)\",\n",
    "        \"rgba(203, 95, 72, 1)\",\n",
    "        \"rgba(125, 166, 222, 1)\",\n",
    "        \"rgba(180, 104, 183, 1)\",\n",
    "        \"rgba(204, 159, 79, 1)\",\n",
    "        \"rgba(178, 160, 97, 1)\",\n",
    "        \"rgba(148, 188, 74, 1)\",\n",
    "        \"rgba(132, 106, 182, 1)\",\n",
    "        \"rgba(137, 161, 176, 1)\",\n",
    "        \"rgba(234, 122, 60, 1)\",\n",
    "        \"rgba(83, 154, 226, 1)\",\n",
    "        \"rgba(113, 197, 88, 1)\",\n",
    "        \"rgba(229, 197, 49, 1)\",\n",
    "        \"rgba(229, 112, 155, 1)\",\n",
    "        \"rgba(112, 203, 212, 1)\",\n",
    "        \"rgba(106, 123, 175, 1)\",\n",
    "        \"rgba(115, 108, 117, 1)\",\n",
    "        \"rgba(227, 151, 209, 1)\"\n",
    "    ]\n",
    "    return colors"
   ]
  },
  {
   "cell_type": "code",
   "execution_count": 348,
   "id": "eb709db2",
   "metadata": {},
   "outputs": [],
   "source": [
    "def set_chart(labels, amounts, colors, title=\"Meu Gráfico\", type=\"bar\"):    \n",
    "    data = []\n",
    "    for n in range(0, len(labels)):\n",
    "        data.append(amounts[n])\n",
    "    chart = {\n",
    "        \"type\": type,\n",
    "        \"data\": {\n",
    "            \"labels\": labels,\n",
    "            \"datasets\": [{\n",
    "                \"label\": \"\",\n",
    "                \"data\": data,\n",
    "                \"backgroundColor\": colors\n",
    "            }]\n",
    "        },\n",
    "        \"options\": {\n",
    "            \"legend\": {\n",
    "                \"labels\": {\n",
    "                    \"boxWidth\": 0\n",
    "                }\n",
    "            },\n",
    "            \"title\": {\n",
    "                \"display\": \"true\",\n",
    "                \"text\": title\n",
    "            }\n",
    "        }\n",
    "    }\n",
    "    return chart"
   ]
  },
  {
   "cell_type": "code",
   "execution_count": 349,
   "id": "c2b3daa8",
   "metadata": {},
   "outputs": [],
   "source": [
    "def get_api_chart(chart):\n",
    "    url_base = \"https://quickchart.io/chart\"\n",
    "    response = req.get(f\"{url_base}?c={str(chart)}\")\n",
    "    return response.content"
   ]
  },
  {
   "cell_type": "code",
   "execution_count": 350,
   "id": "ab8f9051",
   "metadata": {},
   "outputs": [],
   "source": [
    "def save_image(path, content):\n",
    "    with open(path, \"wb\") as img:\n",
    "        img.write(content)"
   ]
  },
  {
   "cell_type": "code",
   "execution_count": 351,
   "id": "82bdc8b5",
   "metadata": {},
   "outputs": [],
   "source": [
    "csv_path = \"pokechart.csv\"\n",
    "json_path = \"pokechart.json\"\n",
    "data = get_pokechart_data(csv_path, json_path)\n",
    "labels = get_data_labels(data)\n",
    "amounts = get_data_amounts(data)\n",
    "colors = set_data_backgrounds()\n",
    "chart = set_chart(labels, amounts, colors, title=\"Quantidade de Pokémon por Tipo\")\n",
    "content = get_api_chart(chart)\n",
    "save_image(\"pokechart.png\", content)"
   ]
  },
  {
   "cell_type": "code",
   "execution_count": null,
   "id": "053feeb4",
   "metadata": {},
   "outputs": [],
   "source": []
  },
  {
   "cell_type": "code",
   "execution_count": null,
   "id": "9e843596",
   "metadata": {},
   "outputs": [],
   "source": []
  }
 ],
 "metadata": {
  "kernelspec": {
   "display_name": "Python 3 (ipykernel)",
   "language": "python",
   "name": "python3"
  },
  "language_info": {
   "codemirror_mode": {
    "name": "ipython",
    "version": 3
   },
   "file_extension": ".py",
   "mimetype": "text/x-python",
   "name": "python",
   "nbconvert_exporter": "python",
   "pygments_lexer": "ipython3",
   "version": "3.9.6"
  }
 },
 "nbformat": 4,
 "nbformat_minor": 5
}
